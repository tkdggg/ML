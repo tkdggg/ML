{
 "cells": [
  {
   "cell_type": "code",
   "execution_count": 155,
   "id": "21ecff6f",
   "metadata": {},
   "outputs": [],
   "source": [
    "import numpy as np\n",
    "from sklearn.linear_model import LinearRegression\n",
    "from sklearn.preprocessing import  PolynomialFeatures\n",
    "import numpy as np\n",
    "import matplotlib.pyplot as plt"
   ]
  },
  {
   "cell_type": "code",
   "execution_count": 156,
   "id": "6401cb06",
   "metadata": {},
   "outputs": [],
   "source": [
    "data1=np.array([[2.4520000e+01, 3.0140000e+01, 5.3900000e+00, 5.1310000e+01,\n",
    "        6.6170000e+02, 1.0650000e+02, 1.5570000e+01, 1.0750700e+05],\n",
    "       [2.5320000e+01, 2.9660000e+01, 5.4500000e+00, 5.1310000e+01,\n",
    "        7.3240000e+02, 1.0730000e+02, 1.6610000e+01, 1.0930000e+05],\n",
    "       [2.5810000e+01, 2.9290000e+01, 5.5000000e+00, 5.1310000e+01,\n",
    "        8.6315000e+02, 1.1880000e+02, 1.5730000e+01, 1.1102600e+05],\n",
    "       [2.6210000e+01, 2.8960000e+01, 5.5600000e+00, 5.1310000e+01,\n",
    "        9.8770000e+02, 1.1800000e+02, 1.5040000e+01, 1.1270400e+05],\n",
    "       [2.6410000e+01, 2.8590000e+01, 5.6300000e+00, 5.1310000e+01,\n",
    "        1.0982500e+03, 1.0310000e+02, 1.4390000e+01, 1.1433300e+05],\n",
    "       [2.6370000e+01, 2.8550000e+01, 5.6900000e+00, 5.1310000e+01,\n",
    "        1.2043000e+03, 1.0340000e+02, 1.2980000e+01, 1.1582300e+05],\n",
    "       [2.7630000e+01, 2.8210000e+01, 5.7900000e+00, 5.1310000e+01,\n",
    "        1.4053000e+03, 1.0640000e+02, 1.1600000e+01, 1.1717100e+05],\n",
    "       [2.8140000e+01, 2.7710000e+01, 5.9000000e+00, 5.1310000e+01,\n",
    "        1.7495000e+03, 1.1470000e+02, 1.1450000e+01, 1.1851700e+05],\n",
    "       [2.8620000e+01, 2.7290000e+01, 6.0200000e+00, 5.1310000e+01,\n",
    "        2.3586000e+03, 1.2410000e+02, 1.1210000e+01, 1.1985000e+05],\n",
    "       [2.9040000e+01, 2.7030000e+01, 6.1200000e+00, 5.1310000e+01,\n",
    "        2.9303500e+03, 1.1710000e+02, 1.0550000e+01, 1.2112100e+05],\n",
    "       [2.9370000e+01, 2.6320000e+01, 6.2900000e+00, 5.1310000e+01,\n",
    "        3.3825000e+03, 1.0830000e+02, 1.0420000e+01, 1.2238900e+05],\n",
    "       [2.9920000e+01, 2.6000000e+01, 6.4300000e+00, 5.1310000e+01,\n",
    "        3.6252000e+03, 1.0280000e+02, 1.0060000e+01, 1.2362600e+05],\n",
    "       [3.0400000e+01, 2.5840000e+01, 6.5500000e+00, 5.1300000e+01,\n",
    "        3.7935500e+03, 9.9200000e+01, 9.1400000e+00, 1.2476100e+05],\n",
    "       [3.0890000e+01, 2.5480000e+01, 6.6800000e+00, 5.1310000e+01,\n",
    "        4.0321500e+03, 9.8600000e+01, 8.1800000e+00, 1.2578600e+05],\n",
    "       [3.6220000e+01, 2.4790000e+01, 6.8100000e+00, 5.1310000e+01,\n",
    "        4.2667000e+03, 1.0040000e+02, 7.5800000e+00, 1.2674300e+05],\n",
    "       [3.7660000e+01, 2.4210000e+01, 6.9400000e+00, 5.1320000e+01,\n",
    "        4.6130000e+03, 1.0070000e+02, 6.9500000e+00, 1.2762700e+05],\n",
    "       [3.9090000e+01, 2.3280000e+01, 7.0800000e+00, 5.1330000e+01,\n",
    "        5.0892000e+03, 9.9200000e+01, 6.4500000e+00, 1.2845300e+05],\n",
    "       [4.0530000e+01, 2.2150000e+01, 7.2300000e+00, 5.1340000e+01,\n",
    "        5.5472000e+03, 1.0120000e+02, 6.0100000e+00, 1.2922700e+05],\n",
    "       [4.1760000e+01, 2.1120000e+01, 7.3700000e+00, 5.1350000e+01,\n",
    "        6.1790000e+03, 1.0390000e+02, 5.8700000e+00, 1.2998800e+05],\n",
    "       [4.3990000e+01, 2.0350000e+01, 7.4800000e+00, 5.1360000e+01,\n",
    "        6.8739500e+03, 1.0180000e+02, 5.8900000e+00, 1.3075600e+05],\n",
    "       [4.3900000e+01, 1.9720000e+01, 7.6100000e+00, 5.1370000e+01,\n",
    "        7.6732500e+03, 1.0150000e+02, 5.2800000e+00, 1.3144800e+05],\n",
    "       [4.4940000e+01, 1.9300000e+01, 7.7100000e+00, 5.1380000e+01,\n",
    "        8.9631000e+03, 1.0480000e+02, 5.1700000e+00, 1.3212900e+05],\n",
    "       [4.5680000e+01, 1.9050000e+01, 7.8200000e+00, 5.1380000e+01,\n",
    "        1.0270710e+04, 1.0590000e+02, 5.0800000e+00, 1.3280200e+05],\n",
    "       [4.6590000e+01, 1.8860000e+01, 7.9300000e+00, 5.1390000e+01,\n",
    "        1.1163935e+04, 9.9300000e+01, 4.8700000e+00, 1.3345000e+05],\n",
    "       [4.7500000e+01, 1.8660000e+01, 8.0700000e+00, 5.1390000e+01,\n",
    "        1.2514205e+04, 1.0330000e+02, 4.7900000e+00, 1.3409100e+05],\n",
    "       [5.1270000e+01, 1.8510000e+01, 8.2600000e+00, 5.1390000e+01,\n",
    "        1.4393550e+04, 1.0540000e+02, 6.1300000e+00, 1.3473500e+05],\n",
    "       [5.2570000e+01, 1.8370000e+01, 8.4500000e+00, 5.1380000e+01,\n",
    "        1.6241000e+04, 1.0260000e+02, 7.4300000e+00, 1.3540400e+05],\n",
    "       [5.3730000e+01, 1.8240000e+01, 8.6800000e+00, 5.1380000e+01,\n",
    "        1.7925505e+04, 1.0260000e+02, 5.9000000e+00, 1.3607200e+05],\n",
    "       [5.4770000e+01, 1.8130000e+01, 8.9700000e+00, 5.1370000e+01,\n",
    "        1.9368000e+04, 1.0200000e+02, 6.7100000e+00, 1.3678200e+05],\n",
    "       [5.6100000e+01, 1.8050000e+01, 9.3300000e+00, 5.1360000e+01,\n",
    "        2.1281150e+04, 1.0140000e+02, 4.9300000e+00, 1.3746200e+05],\n",
    "       [5.8800000e+01, 1.7990000e+01, 9.8000000e+00, 5.1350000e+01,\n",
    "        2.2989500e+04, 1.0200000e+02, 6.5300000e+00, 1.3827100e+05],\n",
    "       [6.0200000e+01, 1.7940000e+01, 1.0350000e+01, 5.1330000e+01,\n",
    "        2.4914000e+04, 1.0160000e+02, 5.5800000e+00, 1.3900800e+05],\n",
    "       [6.1500000e+01, 1.7880000e+01, 1.0920000e+01, 5.1320000e+01,\n",
    "        2.6934000e+04, 1.0210000e+02, 3.7800000e+00, 1.3953800e+05],\n",
    "       [6.2700000e+01, 1.7800000e+01, 1.1470000e+01, 5.1310000e+01,\n",
    "        2.9189850e+04, 1.0290000e+02, 3.3200000e+00, 1.4000500e+05],\n",
    "       [6.3900000e+01, 1.7710000e+01, 1.1970000e+01, 5.1290000e+01,\n",
    "        3.0482400e+04, 1.0250000e+02, 1.4500000e+00, 1.4117800e+05],\n",
    "       [6.4700000e+01, 1.7660000e+01, 1.2510000e+01, 5.1270000e+01,\n",
    "        3.3171500e+04, 1.0090000e+02, 3.4000000e-01, 1.4126000e+05]])"
   ]
  },
  {
   "cell_type": "code",
   "execution_count": 157,
   "id": "f8b94c09",
   "metadata": {},
   "outputs": [],
   "source": [
    "# data1[:,-3]=data1[:,-3]/100\n",
    "# data1[:,-3]=data1[:,-3]/100"
   ]
  },
  {
   "cell_type": "code",
   "execution_count": 158,
   "id": "4588cdac",
   "metadata": {},
   "outputs": [],
   "source": [
    "# 训练集\n",
    "x=data1[0:30,0:7]\n",
    "y=data1[0:30,-1]\n",
    "\n",
    "# 测试集\n",
    "xc=data1[:37,0:7]\n",
    "yc=data1[:37,-1]\n"
   ]
  },
  {
   "cell_type": "code",
   "execution_count": 120,
   "id": "bb83f284",
   "metadata": {},
   "outputs": [
    {
     "ename": "SyntaxError",
     "evalue": "invalid syntax (<ipython-input-120-3287549df18d>, line 16)",
     "output_type": "error",
     "traceback": [
      "\u001b[1;36m  File \u001b[1;32m\"<ipython-input-120-3287549df18d>\"\u001b[1;36m, line \u001b[1;32m16\u001b[0m\n\u001b[1;33m    g=(np.dot(x[i],b0)-y[i])*x[i]//////////////\u001b[0m\n\u001b[1;37m                                   ^\u001b[0m\n\u001b[1;31mSyntaxError\u001b[0m\u001b[1;31m:\u001b[0m invalid syntax\n"
     ]
    }
   ],
   "source": [
    "# 开始梯度下降\n",
    "a=10\n",
    "b0=np.random.rand(7)\n",
    "b0=b0.reshape(7,1)\n",
    "loss=1000\n",
    "count=0\n",
    "l=[]\n",
    "while loss>=10 and count<=100:\n",
    "    g=0\n",
    "    loss=0\n",
    "    \n",
    "#     for i in range(30):\n",
    "#         gnow=((np.dot(x[i],b0))-y[i])*x[i]\n",
    "#         g=g+gnow\n",
    "    i=np.random.randint(0, 30)\n",
    "    g=(np.dot(x[i],b0)-y[i])*x[i]//////////////\n",
    "    g=g.reshape(7,1)\n",
    "    b0=b0-a*g\n",
    "#     计算loss\n",
    "    for k in range(30):\n",
    "        eloss=(y[k]-1/(1+np.exp(-1*np.dot(x[k],b0))))///////\n",
    "        loss=loss+eloss\n",
    "    count=count+1\n",
    "    l=l+[loss]\n",
    "    loss=loss/30\n",
    "    \n",
    "print(count)\n",
    "print(b0)\n",
    "print(loss)"
   ]
  },
  {
   "cell_type": "code",
   "execution_count": 159,
   "id": "b759b129",
   "metadata": {},
   "outputs": [],
   "source": [
    "zzl=[0.34,\n",
    "1.45,\n",
    "3.32,\n",
    "3.78,\n",
    "5.58,\n",
    "6.53,\n",
    "4.93,\n",
    "6.71,\n",
    "5.9,\n",
    "7.43,\n",
    "6.13,\n",
    "4.79,\n",
    "4.87,\n",
    "5.08,\n",
    "5.17,\n",
    "5.28,\n",
    "5.89,\n",
    "5.87,\n",
    "6.01,\n",
    "6.45,\n",
    "6.95,\n",
    "7.58,\n",
    "8.18,\n",
    "9.14,\n",
    "10.06,\n",
    "10.42,\n",
    "10.55,\n",
    "11.21,\n",
    "11.45,\n",
    "11.6,\n",
    "12.98,\n",
    "14.39,\n",
    "15.04,\n",
    "15.73,\n",
    "16.61,\n",
    "15.57\n",
    "]\n",
    "YY=zzl[::-1]"
   ]
  },
  {
   "cell_type": "code",
   "execution_count": null,
   "id": "acda75e9",
   "metadata": {},
   "outputs": [],
   "source": []
  },
  {
   "cell_type": "code",
   "execution_count": 160,
   "id": "7398d8f1",
   "metadata": {},
   "outputs": [
    {
     "name": "stdout",
     "output_type": "stream",
     "text": [
      "10104013.959318548 [ 8.21899002e+01 -3.62585374e+03 -1.07613962e+04 -1.91256673e+05\n",
      "  1.20935675e+00 -1.28450470e+01 -9.89298670e+02]\n"
     ]
    },
    {
     "data": {
      "text/plain": [
       "[<matplotlib.lines.Line2D at 0x2f0e4500430>]"
      ]
     },
     "execution_count": 160,
     "metadata": {},
     "output_type": "execute_result"
    },
    {
     "data": {
      "image/png": "[encoded data removed]",
      "text/plain": [
       "<Figure size 432x288 with 1 Axes>"
      ]
     },
     "metadata": {
      "needs_background": "light"
     },
     "output_type": "display_data"
    }
   ],
   "source": [
    "# 六个因素+自然增长率----人口\n",
    "X=data1[:37,0:7]\n",
    "Y=data1[:37,-1]\n",
    "# Y=YY[:30]\n",
    "from sklearn.linear_model import LinearRegression\n",
    "linreg=LinearRegression()\n",
    "linreg.fit(X,Y)\n",
    "print(linreg.intercept_,linreg.coef_)\n",
    "linreg.predict(xc)\n",
    "plt.plot(linreg.predict(xc),'r')\n",
    "plt.plot(yc,'b')"
   ]
  },
  {
   "cell_type": "code",
   "execution_count": 165,
   "id": "f9377e98",
   "metadata": {},
   "outputs": [
    {
     "ename": "ValueError",
     "evalue": "Expected 2D array, got 1D array instead:\narray=[ 0  1  2  3  4  5  6  7  8  9 10 11 12 13 14 15 16 17 18 19 20 21 22 23\n 24 25 26 27 28 29 30 31 32 33 34 35 36 37 38 39 40 41 42 43 44 45 46 47\n 48 49].\nReshape your data either using array.reshape(-1, 1) if your data has a single feature or array.reshape(1, -1) if it contains a single sample.",
     "output_type": "error",
     "traceback": [
      "\u001b[1;31m---------------------------------------------------------------------------\u001b[0m",
      "\u001b[1;31mValueError\u001b[0m                                Traceback (most recent call last)",
      "\u001b[1;32m<ipython-input-165-18b12e4e4824>\u001b[0m in \u001b[0;36m<module>\u001b[1;34m\u001b[0m\n\u001b[1;32m----> 1\u001b[1;33m \u001b[0mplt\u001b[0m\u001b[1;33m.\u001b[0m\u001b[0mplot\u001b[0m\u001b[1;33m(\u001b[0m\u001b[0mlinreg\u001b[0m\u001b[1;33m.\u001b[0m\u001b[0mpredict\u001b[0m\u001b[1;33m(\u001b[0m\u001b[0mxcc\u001b[0m\u001b[1;33m)\u001b[0m\u001b[1;33m,\u001b[0m\u001b[1;34m'r'\u001b[0m\u001b[1;33m)\u001b[0m\u001b[1;33m\u001b[0m\u001b[1;33m\u001b[0m\u001b[0m\n\u001b[0m",
      "\u001b[1;32mC:\\ProgramData\\Anaconda3\\lib\\site-packages\\sklearn\\linear_model\\_base.py\u001b[0m in \u001b[0;36mpredict\u001b[1;34m(self, X)\u001b[0m\n\u001b[0;32m    236\u001b[0m             \u001b[0mReturns\u001b[0m \u001b[0mpredicted\u001b[0m \u001b[0mvalues\u001b[0m\u001b[1;33m.\u001b[0m\u001b[1;33m\u001b[0m\u001b[1;33m\u001b[0m\u001b[0m\n\u001b[0;32m    237\u001b[0m         \"\"\"\n\u001b[1;32m--> 238\u001b[1;33m         \u001b[1;32mreturn\u001b[0m \u001b[0mself\u001b[0m\u001b[1;33m.\u001b[0m\u001b[0m_decision_function\u001b[0m\u001b[1;33m(\u001b[0m\u001b[0mX\u001b[0m\u001b[1;33m)\u001b[0m\u001b[1;33m\u001b[0m\u001b[1;33m\u001b[0m\u001b[0m\n\u001b[0m\u001b[0;32m    239\u001b[0m \u001b[1;33m\u001b[0m\u001b[0m\n\u001b[0;32m    240\u001b[0m     \u001b[0m_preprocess_data\u001b[0m \u001b[1;33m=\u001b[0m \u001b[0mstaticmethod\u001b[0m\u001b[1;33m(\u001b[0m\u001b[0m_preprocess_data\u001b[0m\u001b[1;33m)\u001b[0m\u001b[1;33m\u001b[0m\u001b[1;33m\u001b[0m\u001b[0m\n",
      "\u001b[1;32mC:\\ProgramData\\Anaconda3\\lib\\site-packages\\sklearn\\linear_model\\_base.py\u001b[0m in \u001b[0;36m_decision_function\u001b[1;34m(self, X)\u001b[0m\n\u001b[0;32m    218\u001b[0m         \u001b[0mcheck_is_fitted\u001b[0m\u001b[1;33m(\u001b[0m\u001b[0mself\u001b[0m\u001b[1;33m)\u001b[0m\u001b[1;33m\u001b[0m\u001b[1;33m\u001b[0m\u001b[0m\n\u001b[0;32m    219\u001b[0m \u001b[1;33m\u001b[0m\u001b[0m\n\u001b[1;32m--> 220\u001b[1;33m         \u001b[0mX\u001b[0m \u001b[1;33m=\u001b[0m \u001b[0mcheck_array\u001b[0m\u001b[1;33m(\u001b[0m\u001b[0mX\u001b[0m\u001b[1;33m,\u001b[0m \u001b[0maccept_sparse\u001b[0m\u001b[1;33m=\u001b[0m\u001b[1;33m[\u001b[0m\u001b[1;34m'csr'\u001b[0m\u001b[1;33m,\u001b[0m \u001b[1;34m'csc'\u001b[0m\u001b[1;33m,\u001b[0m \u001b[1;34m'coo'\u001b[0m\u001b[1;33m]\u001b[0m\u001b[1;33m)\u001b[0m\u001b[1;33m\u001b[0m\u001b[1;33m\u001b[0m\u001b[0m\n\u001b[0m\u001b[0;32m    221\u001b[0m         return safe_sparse_dot(X, self.coef_.T,\n\u001b[0;32m    222\u001b[0m                                dense_output=True) + self.intercept_\n",
      "\u001b[1;32mC:\\ProgramData\\Anaconda3\\lib\\site-packages\\sklearn\\utils\\validation.py\u001b[0m in \u001b[0;36minner_f\u001b[1;34m(*args, **kwargs)\u001b[0m\n\u001b[0;32m     61\u001b[0m             \u001b[0mextra_args\u001b[0m \u001b[1;33m=\u001b[0m \u001b[0mlen\u001b[0m\u001b[1;33m(\u001b[0m\u001b[0margs\u001b[0m\u001b[1;33m)\u001b[0m \u001b[1;33m-\u001b[0m \u001b[0mlen\u001b[0m\u001b[1;33m(\u001b[0m\u001b[0mall_args\u001b[0m\u001b[1;33m)\u001b[0m\u001b[1;33m\u001b[0m\u001b[1;33m\u001b[0m\u001b[0m\n\u001b[0;32m     62\u001b[0m             \u001b[1;32mif\u001b[0m \u001b[0mextra_args\u001b[0m \u001b[1;33m<=\u001b[0m \u001b[1;36m0\u001b[0m\u001b[1;33m:\u001b[0m\u001b[1;33m\u001b[0m\u001b[1;33m\u001b[0m\u001b[0m\n\u001b[1;32m---> 63\u001b[1;33m                 \u001b[1;32mreturn\u001b[0m \u001b[0mf\u001b[0m\u001b[1;33m(\u001b[0m\u001b[1;33m*\u001b[0m\u001b[0margs\u001b[0m\u001b[1;33m,\u001b[0m \u001b[1;33m**\u001b[0m\u001b[0mkwargs\u001b[0m\u001b[1;33m)\u001b[0m\u001b[1;33m\u001b[0m\u001b[1;33m\u001b[0m\u001b[0m\n\u001b[0m\u001b[0;32m     64\u001b[0m \u001b[1;33m\u001b[0m\u001b[0m\n\u001b[0;32m     65\u001b[0m             \u001b[1;31m# extra_args > 0\u001b[0m\u001b[1;33m\u001b[0m\u001b[1;33m\u001b[0m\u001b[1;33m\u001b[0m\u001b[0m\n",
      "\u001b[1;32mC:\\ProgramData\\Anaconda3\\lib\\site-packages\\sklearn\\utils\\validation.py\u001b[0m in \u001b[0;36mcheck_array\u001b[1;34m(array, accept_sparse, accept_large_sparse, dtype, order, copy, force_all_finite, ensure_2d, allow_nd, ensure_min_samples, ensure_min_features, estimator)\u001b[0m\n\u001b[0;32m    635\u001b[0m             \u001b[1;31m# If input is 1D raise error\u001b[0m\u001b[1;33m\u001b[0m\u001b[1;33m\u001b[0m\u001b[1;33m\u001b[0m\u001b[0m\n\u001b[0;32m    636\u001b[0m             \u001b[1;32mif\u001b[0m \u001b[0marray\u001b[0m\u001b[1;33m.\u001b[0m\u001b[0mndim\u001b[0m \u001b[1;33m==\u001b[0m \u001b[1;36m1\u001b[0m\u001b[1;33m:\u001b[0m\u001b[1;33m\u001b[0m\u001b[1;33m\u001b[0m\u001b[0m\n\u001b[1;32m--> 637\u001b[1;33m                 raise ValueError(\n\u001b[0m\u001b[0;32m    638\u001b[0m                     \u001b[1;34m\"Expected 2D array, got 1D array instead:\\narray={}.\\n\"\u001b[0m\u001b[1;33m\u001b[0m\u001b[1;33m\u001b[0m\u001b[0m\n\u001b[0;32m    639\u001b[0m                     \u001b[1;34m\"Reshape your data either using array.reshape(-1, 1) if \"\u001b[0m\u001b[1;33m\u001b[0m\u001b[1;33m\u001b[0m\u001b[0m\n",
      "\u001b[1;31mValueError\u001b[0m: Expected 2D array, got 1D array instead:\narray=[ 0  1  2  3  4  5  6  7  8  9 10 11 12 13 14 15 16 17 18 19 20 21 22 23\n 24 25 26 27 28 29 30 31 32 33 34 35 36 37 38 39 40 41 42 43 44 45 46 47\n 48 49].\nReshape your data either using array.reshape(-1, 1) if your data has a single feature or array.reshape(1, -1) if it contains a single sample."
     ]
    }
   ],
   "source": [
    "plt.plot(linreg.predict(xcc),'r')"
   ]
  },
  {
   "cell_type": "code",
   "execution_count": 164,
   "id": "dc0cccd5",
   "metadata": {},
   "outputs": [
    {
     "data": {
      "text/plain": [
       "array([ 0,  1,  2,  3,  4,  5,  6,  7,  8,  9, 10, 11, 12, 13, 14, 15, 16,\n",
       "       17, 18, 19, 20, 21, 22, 23, 24, 25, 26, 27, 28, 29, 30, 31, 32, 33,\n",
       "       34, 35, 36, 37, 38, 39, 40, 41, 42, 43, 44, 45, 46, 47, 48, 49])"
      ]
     },
     "execution_count": 164,
     "metadata": {},
     "output_type": "execute_result"
    }
   ],
   "source": [
    "xcc=np.arange(50)\n",
    "xcc"
   ]
  },
  {
   "cell_type": "code",
   "execution_count": 133,
   "id": "abc69b66",
   "metadata": {},
   "outputs": [
    {
     "name": "stdout",
     "output_type": "stream",
     "text": [
      "685.8991424871434 [ 2.83004104e-01  1.32462737e-01 -9.69433249e+00 -1.22152111e+01\n",
      "  9.91209250e-04 -2.66966526e-02]\n"
     ]
    },
    {
     "data": {
      "text/plain": [
       "[<matplotlib.lines.Line2D at 0x2f0e41fb220>]"
      ]
     },
     "execution_count": 133,
     "metadata": {},
     "output_type": "execute_result"
    },
    {
     "data": {
      "image/png": "[encoded data removed]",
      "text/plain": [
       "<Figure size 432x288 with 1 Axes>"
      ]
     },
     "metadata": {
      "needs_background": "light"
     },
     "output_type": "display_data"
    }
   ],
   "source": [
    "# 六个因素----自然增长率\n",
    "X=data1[:30,0:6]\n",
    "Y=data1[:30,-2]\n",
    "# Y=YY[:30]\n",
    "xc=data1[:37,0:6]\n",
    "yc=data1[:37,-2]\n",
    "from sklearn.linear_model import LinearRegression\n",
    "linreg=LinearRegression()\n",
    "linreg.fit(X,Y)\n",
    "print(linreg.intercept_,linreg.coef_)\n",
    "linreg.predict(xc)\n",
    "plt.plot(linreg.predict(xc),'r')\n",
    "plt.plot(yc,'b')"
   ]
  },
  {
   "cell_type": "code",
   "execution_count": 143,
   "id": "81cd4565",
   "metadata": {},
   "outputs": [
    {
     "name": "stdout",
     "output_type": "stream",
     "text": [
      "-4888.884997663668 [-3.66183435e-01  1.38263185e+00  1.51728168e+00  9.65977024e+01\n",
      "  5.07724166e-04  2.55553152e-01]\n"
     ]
    },
    {
     "data": {
      "text/plain": [
       "[<matplotlib.lines.Line2D at 0x2f0e30dae80>]"
      ]
     },
     "execution_count": 143,
     "metadata": {},
     "output_type": "execute_result"
    },
    {
     "data": {
      "image/png": "[encoded data removed]",
      "text/plain": [
       "<Figure size 432x288 with 1 Axes>"
      ]
     },
     "metadata": {
      "needs_background": "light"
     },
     "output_type": "display_data"
    }
   ],
   "source": [
    "# 五个因素+自然增长率----cpi   cpi不好预测，直接假定平稳\n",
    "X=np.hstack((data1[:37,0:5],data1[:37,-2].reshape(36,1)))\n",
    "Y=data1[:37,-3]\n",
    "# Y=YY[:30]\n",
    "xc=np.hstack((data1[:37,0:5],data1[:37,-2].reshape(36,1)))\n",
    "yc=data1[:37,-3]\n",
    "from sklearn.linear_model import LinearRegression\n",
    "linreg=LinearRegression()\n",
    "linreg.fit(X,Y)\n",
    "print(linreg.intercept_,linreg.coef_)\n",
    "linreg.predict(xc)\n",
    "plt.plot(linreg.predict(xc),'r')\n",
    "plt.plot(yc,'b')"
   ]
  },
  {
   "cell_type": "code",
   "execution_count": 152,
   "id": "9a72800e",
   "metadata": {},
   "outputs": [
    {
     "name": "stdout",
     "output_type": "stream",
     "text": [
      "-2294943.861768597 [1.16733242e+02 4.79894331e+02 6.08245140e+03 4.35809564e+04\n",
      " 1.29082205e+01 5.38193329e+02]\n"
     ]
    },
    {
     "data": {
      "text/plain": [
       "[<matplotlib.lines.Line2D at 0x2f0e448c3a0>]"
      ]
     },
     "execution_count": 152,
     "metadata": {},
     "output_type": "execute_result"
    },
    {
     "data": {
      "image/png": "[encoded data removed]",
      "text/plain": [
       "<Figure size 432x288 with 1 Axes>"
      ]
     },
     "metadata": {
      "needs_background": "light"
     },
     "output_type": "display_data"
    }
   ],
   "source": [
    "# 五个因素+出生率----into\n",
    "X=np.hstack((data1[:37,0:4],data1[:37,5:7]))\n",
    "Y=data1[:37,-4]\n",
    "# Y=YY[:30]\n",
    "xc=np.hstack((data1[:37,0:4],data1[:37,5:7]))\n",
    "yc=data1[:37,-4]\n",
    "from sklearn.linear_model import LinearRegression\n",
    "linreg=LinearRegression()\n",
    "linreg.fit(X,Y)\n",
    "print(linreg.intercept_,linreg.coef_)\n",
    "linreg.predict(xc)\n",
    "plt.plot(linreg.predict(xc),'r')\n",
    "plt.plot(yc,'b')"
   ]
  },
  {
   "cell_type": "code",
   "execution_count": 147,
   "id": "b812a689",
   "metadata": {},
   "outputs": [
    {
     "data": {
      "text/plain": [
       "(36, 2)"
      ]
     },
     "execution_count": 147,
     "metadata": {},
     "output_type": "execute_result"
    }
   ],
   "source": [
    "pppp=data1[:37,5:7]\n",
    "np.shape(pppp)"
   ]
  },
  {
   "cell_type": "code",
   "execution_count": 154,
   "id": "5627f8f6",
   "metadata": {},
   "outputs": [
    {
     "data": {
      "text/plain": [
       "array([1986, 1987, 1988, 1989, 1990, 1991, 1992, 1993, 1994, 1995, 1996,\n",
       "       1997, 1998, 1999, 2000, 2001, 2002, 2003, 2004, 2005, 2006, 2007,\n",
       "       2008, 2009, 2010, 2011, 2012, 2013, 2014, 2015, 2016, 2017, 2018,\n",
       "       2019, 2020, 2021, 2022, 2023, 2024, 2025, 2026, 2027, 2028, 2029,\n",
       "       2030, 2031, 2032, 2033, 2034, 2035])"
      ]
     },
     "execution_count": 154,
     "metadata": {},
     "output_type": "execute_result"
    }
   ],
   "source": []
  }
 ],
 "metadata": {
  "kernelspec": {
   "display_name": "Python 3",
   "language": "python",
   "name": "python3"
  },
  "language_info": {
   "codemirror_mode": {
    "name": "ipython",
    "version": 3
   },
   "file_extension": ".py",
   "mimetype": "text/x-python",
   "name": "python",
   "nbconvert_exporter": "python",
   "pygments_lexer": "ipython3",
   "version": "3.8.8"
  }
 },
 "nbformat": 4,
 "nbformat_minor": 5
}
